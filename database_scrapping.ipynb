{
 "cells": [
  {
   "cell_type": "markdown",
   "id": "9cd8cfdd-9567-4861-b26d-0a40379283ed",
   "metadata": {},
   "source": [
    "# Database Web-Scrapping\n",
    "During the project, I had to sort single-cell RNA sequencing datasets from CancerSea database:<br> \n",
    "<blockquote> <a href=\"http://biocc.hrbmu.edu.cn/CancerSEA/goBrowse#resDiv\">http://biocc.hrbmu.edu.cn/CancerSEA/goBrowse#resDiv</a></blockquote>\n",
    "The principle is pretty simple. By looking at the information I wanted to isolate, I found on the json source page where it was coded. <br>\n",
    "By saving the whole json into python's dictionnary, it is sufficient to only display identifiers of the datasets matching our interest. \n",
    "<blockquote> <em>  Note: each dataset is accessible throught a specific url beginning always the same. This common part is refered as the \"prefix\". </em> </blockquote>"
   ]
  },
  {
   "cell_type": "code",
   "execution_count": 1,
   "id": "94de494e-ba09-4935-918a-3f503c1e3a4a",
   "metadata": {},
   "outputs": [],
   "source": [
    "# LIBRAIRIES\n",
    "import requests   #web-scrapping package\n",
    "import json        \n",
    "import pandas as pd\n",
    "import time\n"
   ]
  },
  {
   "cell_type": "code",
   "execution_count": 2,
   "id": "2cca810f-5341-4d85-83c7-2ae5d8b79b6d",
   "metadata": {},
   "outputs": [
    {
     "name": "stdout",
     "output_type": "stream",
     "text": [
      "http://biocc.hrbmu.edu.cn/CancerSEA/details_browse?exp_id=EXP0001\n",
      "http://biocc.hrbmu.edu.cn/CancerSEA/details_browse?exp_id=EXP0002\n",
      "http://biocc.hrbmu.edu.cn/CancerSEA/details_browse?exp_id=EXP0003\n",
      "http://biocc.hrbmu.edu.cn/CancerSEA/details_browse?exp_id=EXP0004\n",
      "http://biocc.hrbmu.edu.cn/CancerSEA/details_browse?exp_id=EXP0005\n",
      "http://biocc.hrbmu.edu.cn/CancerSEA/details_browse?exp_id=EXP0006\n",
      "http://biocc.hrbmu.edu.cn/CancerSEA/details_browse?exp_id=EXP0007\n",
      "http://biocc.hrbmu.edu.cn/CancerSEA/details_browse?exp_id=EXP0008\n",
      "http://biocc.hrbmu.edu.cn/CancerSEA/details_browse?exp_id=EXP0009\n",
      "http://biocc.hrbmu.edu.cn/CancerSEA/details_browse?exp_id=EXP0010\n",
      "http://biocc.hrbmu.edu.cn/CancerSEA/details_browse?exp_id=EXP0011\n",
      "http://biocc.hrbmu.edu.cn/CancerSEA/details_browse?exp_id=EXP0012\n",
      "http://biocc.hrbmu.edu.cn/CancerSEA/details_browse?exp_id=EXP0013\n"
     ]
    },
    {
     "name": "stderr",
     "output_type": "stream",
     "text": [
      "\n",
      "KeyboardInterrupt\n",
      "\n"
     ]
    }
   ],
   "source": [
    "prefix = 'http://biocc.hrbmu.edu.cn/CancerSEA/details_browse?exp_id=EXP0'\n",
    "scrapping = {} #the final dictionnary\n",
    "\n",
    "for nb in range (1,150):\n",
    "    nb = f\"{nb:03}\"\n",
    "    url = prefix+str(nb)\n",
    "    print(url)\n",
    "\n",
    "    res = requests.get(url)     #get the website\n",
    "    js = res.text               #get the code\n",
    "    jas=json.loads(js)          #get json into python\n",
    "\n",
    "    scrapping[jas['accession']] = [int(jas['cellNum']), jas['cancerType']]\n",
    "    #print(scrapping)\n",
    "\n",
    "print(scrapping)\n"
   ]
  },
  {
   "cell_type": "code",
   "execution_count": 6,
   "id": "39827e71-f814-49a1-b1f5-9139b4caeebb",
   "metadata": {},
   "outputs": [
    {
     "name": "stdout",
     "output_type": "stream",
     "text": [
      "--not_matching--\n",
      "=============\n",
      " GSE113660 6875 Alveolar rhabdomyosarcoma \n",
      "=============\n",
      "--not_matching--\n",
      "--not_matching--\n",
      "--not_matching--\n",
      "--not_matching--\n",
      "--not_matching--\n",
      "--not_matching--\n",
      "--not_matching--\n",
      "--not_matching--\n",
      "--not_matching--\n",
      "--not_matching--\n"
     ]
    }
   ],
   "source": [
    "for access in scrapping:\n",
    "    print('--not_matching--')\n",
    "    #print(scrapping[str(access)][0])\n",
    "    if scrapping[str(access)][0] > 5000:\n",
    "        print('=============\\n',access, scrapping[str(access)][0], scrapping[str(access)][1] , '\\n=============')"
   ]
  }
 ],
 "metadata": {
  "kernelspec": {
   "display_name": "Python 3 (ipykernel)",
   "language": "python",
   "name": "python3"
  },
  "language_info": {
   "codemirror_mode": {
    "name": "ipython",
    "version": 3
   },
   "file_extension": ".py",
   "mimetype": "text/x-python",
   "name": "python",
   "nbconvert_exporter": "python",
   "pygments_lexer": "ipython3",
   "version": "3.11.4"
  }
 },
 "nbformat": 4,
 "nbformat_minor": 5
}
